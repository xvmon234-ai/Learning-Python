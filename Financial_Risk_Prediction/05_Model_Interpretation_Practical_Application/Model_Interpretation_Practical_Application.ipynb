{
  "nbformat": 4,
  "nbformat_minor": 0,
  "metadata": {
    "colab": {
      "provenance": [],
      "authorship_tag": "ABX9TyMXLZd393eSON9Zbk9pgRYG",
      "include_colab_link": true
    },
    "kernelspec": {
      "name": "python3",
      "display_name": "Python 3"
    },
    "language_info": {
      "name": "python"
    }
  },
  "cells": [
    {
      "cell_type": "markdown",
      "metadata": {
        "id": "view-in-github",
        "colab_type": "text"
      },
      "source": [
        "<a href=\"https://colab.research.google.com/github/xvmon234-ai/Learning-Python/blob/main/Financial_Risk_Prediction/05_Model_Interpretation_Practical_Application/Model_Interpretation_Practical_Application.ipynb\" target=\"_parent\"><img src=\"https://colab.research.google.com/assets/colab-badge.svg\" alt=\"Open In Colab\"/></a>"
      ]
    },
    {
      "cell_type": "markdown",
      "source": [
        "# **모델 해석 및 실무적 활용 방안(Model Interpretation & Practical Application)**\n",
        "\n",
        "\n",
        "---\n",
        "\n",
        "\n",
        "### **1단계: 데이터 준비 및 모델 훈련**\n",
        "먼저, 이전 단계에서 작성한 코드를 다시 실행하여 모델 학습에 필요한 데이터를 준비하고 모델을 훈련합니다. 이 과정이 완료되어야 모델을 해석할 수 있습니다."
      ],
      "metadata": {
        "id": "eLZ3wkYOTc5K"
      }
    },
    {
      "cell_type": "code",
      "execution_count": 1,
      "metadata": {
        "colab": {
          "base_uri": "https://localhost:8080/"
        },
        "id": "eafQJSkSTA0y",
        "outputId": "4975466b-eb28-48e5-effa-8c3363dc0615"
      },
      "outputs": [
        {
          "output_type": "stream",
          "name": "stdout",
          "text": [
            "✅ 데이터 준비 및 모델 훈련 완료.\n"
          ]
        }
      ],
      "source": [
        "# 필요한 라이브러리 불러오기\n",
        "import pandas as pd\n",
        "import yfinance as yf\n",
        "import matplotlib.pyplot as plt\n",
        "import seaborn as sns\n",
        "from sklearn.model_selection import train_test_split\n",
        "from sklearn.ensemble import RandomForestClassifier\n",
        "from sklearn.metrics import accuracy_score, precision_score, recall_score, f1_score\n",
        "\n",
        "# 1 단계: 데이터 수집\n",
        "tickers = ['AAPL', 'MSFT', 'GOOGL', 'AMZN', 'META']\n",
        "financial_data = {}\n",
        "\n",
        "for ticker in tickers:\n",
        "  try:\n",
        "    stock = yf.Ticker(ticker)\n",
        "    income_stmt = stock.income_stmt.T\n",
        "    balance_sheet = stock.balance_sheet.T\n",
        "    financial_data[ticker] = {'income_stmt': income_stmt, 'balance_sheet': balance_sheet} # 질문 01. 해당 내용에 대한 추가설명\n",
        "  except Exception as e:\n",
        "        print(f\"{ticker}의 데이터를 불러오는 중 오류가 발생했습니다: {e}\")\n",
        "\n",
        "# 2 단계: 재무 비율 계산\n",
        "\n",
        "calculated_ratios = {}\n",
        "\n",
        "for ticker in tickers:\n",
        "  if ticker in financial_data:\n",
        "    income_df = financial_data[ticker]['income_stmt']\n",
        "    balance_df = financial_data[ticker]['balance_sheet']\n",
        "\n",
        "    # DataFrame 복사본을 생성하여 오류 방지\n",
        "    income_df = income_df.copy()\n",
        "    balance_df = balance_df.copy()\n",
        "\n",
        "    # 각 기업별 재무 비율 계산\n",
        "    ratios_df = pd.DataFrame(index=income_df.index)\n",
        "\n",
        "    # 1. 유동성 비율 (Liquidity Ratios)\n",
        "    # 유동비율 = 유동자산 / 유동부채: 단기 채무 지급 능력을 나타냄.\n",
        "    ratios_df['CurrentRatio'] = balance_df['Current Assets'] / balance_df['Current Liabilities']\n",
        "\n",
        "    # 당좌비율 = (유동자산 - 재고자산) / 유동부채: 재고를 제외한 엄격한 단기 지급 능력.\n",
        "    # META의 경우 재고자산이 없으므로 재고자산을 0으로 간주하여 계산해야 함\n",
        "    # 따라서 다음의 조건문을 활용\n",
        "    if 'Inventory' in balance_df.columns:\n",
        "      ratios_df['QuickRatio'] = (balance_df['Current Assets'] - balance_df['Inventory']) / balance_df['Current Liabilities']\n",
        "    # 재고자산이 없는 경우\n",
        "    # 업종에 따라서 이와 같은 경우가 존재할 수 있음을 유의해야함\n",
        "    else:\n",
        "      ratios_df['QuickRatio'] = balance_df['Current Assets'] / balance_df['Current Liabilities']\n",
        "\n",
        "    # 2. 수익성 비율 (Profitability Ratios)\n",
        "    # 매출총이익률 = 매출총이익 / 매출(OperatingRevenue): 주된 영업활동을 통해 얻은 수익성.\n",
        "    ratios_df['GrossProfitMargin'] = income_df['Gross Profit'] / income_df['Operating Revenue']\n",
        "\n",
        "    # 영업이익률 = 영업이익 / 매출(Operating Revenue): 핵심 사업의 효율성.\n",
        "    ratios_df['OperatingProfitMargin'] = income_df['Operating Income'] / income_df['Operating Revenue']\n",
        "\n",
        "    # 3. 레버리지 비율 (Leverage Ratios)\n",
        "    # 부채비율 = 총부채 / 총자본(Common Stock Equity): 타인자본 의존도를 나타냄.\n",
        "    ratios_df['DebtRatio'] = balance_df['Total Debt'] / balance_df['Common Stock Equity']\n",
        "\n",
        "# 3단계: 목표 변수(Target) 생성\n",
        "    # 다음 해에 순이익이 음수이면 '1' (재무 위험), 아니면 '0' (정상)으로 정의\n",
        "    # shift(-1)을 사용하여 다음 연도 데이터를 가져옴\n",
        "    net_income_next_year = income_df['Net Income'].shift(-1)\n",
        "    ratios_df['FinancialRisk'] = (net_income_next_year < 0).astype(int)\n",
        "\n",
        "    # 계산된 재무 비율 저장\n",
        "    calculated_ratios[ticker] = ratios_df\n",
        "\n",
        "all_ratios_df = pd.concat(calculated_ratios, names=['Ticker', 'Date'])\n",
        "all_ratios_df = all_ratios_df.reset_index()\n",
        "\n",
        "# 결측치 제거\n",
        "all_ratios_df = all_ratios_df.dropna()\n",
        "\n",
        "# 독립 변수(X)와 종속 변수(y) 정의\n",
        "X = all_ratios_df[['CurrentRatio', 'QuickRatio', 'GrossProfitMargin', 'OperatingProfitMargin', 'DebtRatio']]\n",
        "y = all_ratios_df['FinancialRisk']\n",
        "\n",
        "# 훈련 데이터와 테스트 데이터로 분리\n",
        "X_train, X_test, y_train, y_test = train_test_split(X, y, test_size=0.2, random_state=42)\n",
        "\n",
        "# 모델 선택 및 훈련 (Random Forest 모델 사용)\n",
        "model = RandomForestClassifier(n_estimators=100, random_state=42)\n",
        "model.fit(X_train, y_train)\n",
        "\n",
        "print(\"✅ 데이터 준비 및 모델 훈련 완료.\")"
      ]
    },
    {
      "cell_type": "markdown",
      "source": [
        "### **2단계: 모델 해석: 특성 중요도(Feature Importance) 분석 및 시각화**\n",
        "이제 훈련된 모델을 분석하여 어떤 재무 비율이 가장 중요한지 파악합니다."
      ],
      "metadata": {
        "id": "6c4lAtS_UUtg"
      }
    },
    {
      "cell_type": "code",
      "source": [
        "# 특성 중요도 추출\n",
        "feature_importances = pd.Series(model.feature_importances_, index=X.columns)\n",
        "\n",
        "# 중요도 순서대로 정렬\n",
        "feature_importances_sorted = feature_importances.sort_values(ascending=False)\n",
        "\n",
        "# 특성 중요도 시각화\n",
        "plt.figure(figsize=(10, 6))\n",
        "sns.barplot(x=feature_importances_sorted, y=feature_importances_sorted.index)\n",
        "plt.title('Financial Ratio Importance for Risk Prediction')\n",
        "plt.xlabel('Importance')\n",
        "plt.ylabel('Financial Ratios')\n",
        "plt.show()\n",
        "\n",
        "print(\"\\n✅ 모델의 주요 특성 중요도:\")\n",
        "print(feature_importances_sorted)"
      ],
      "metadata": {
        "colab": {
          "base_uri": "https://localhost:8080/",
          "height": 712
        },
        "id": "fMYhIp3OUbmM",
        "outputId": "66155ea8-665d-42b8-e550-b9463584ae63"
      },
      "execution_count": 2,
      "outputs": [
        {
          "output_type": "display_data",
          "data": {
            "text/plain": [
              "<Figure size 1000x600 with 1 Axes>"
            ],
            "image/png": "[encoded data removed]"
          },
          "metadata": {}
        },
        {
          "output_type": "stream",
          "name": "stdout",
          "text": [
            "\n",
            "✅ 모델의 주요 특성 중요도:\n",
            "OperatingProfitMargin    0.236452\n",
            "QuickRatio               0.209114\n",
            "DebtRatio                0.195575\n",
            "GrossProfitMargin        0.190478\n",
            "CurrentRatio             0.168381\n",
            "dtype: float64\n"
          ]
        }
      ]
    },
    {
      "cell_type": "markdown",
      "source": [
        "> **코드 해설:**\n",
        ">\n",
        "> * model.feature_importances_: 랜덤 포레스트 모델이 학습 과정에서 계산한 각 특성(재무 비율)의 중요도를 배열 형태로 반환합니다.\n",
        ">\n",
        "> * pd.Series(..., index=X.columns): 중요도 배열에 컬럼 이름(재무 비율 이름)을 붙여서 데이터프레임의 형태로 만듭니다.\n",
        ">\n",
        "> * sns.barplot(): 시각적으로 막대 그래프를 그려서 어떤 비율이 가장 중요한지 한눈에 파악할 수 있게 합니다."
      ],
      "metadata": {
        "id": "JCSvvrVsUlN6"
      }
    }
  ]
}